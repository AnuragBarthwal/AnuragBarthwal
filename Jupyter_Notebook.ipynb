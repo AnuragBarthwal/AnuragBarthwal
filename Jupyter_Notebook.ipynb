{
  "cells": [
    {
      "cell_type": "markdown",
      "metadata": {
        "id": "view-in-github",
        "colab_type": "text"
      },
      "source": [
        "<a href=\"https://colab.research.google.com/github/AnuragBarthwal/AnuragBarthwal/blob/main/Jupyter_Notebook.ipynb\" target=\"_parent\"><img src=\"https://colab.research.google.com/assets/colab-badge.svg\" alt=\"Open In Colab\"/></a>"
      ]
    },
    {
      "cell_type": "markdown",
      "metadata": {
        "id": "WIxC-NG67e3K"
      },
      "source": [
        "<center>\n",
        "    <img src=\"https://cf-courses-data.s3.us.cloud-object-storage.appdomain.cloud/IBMDeveloperSkillsNetwork-DS0105EN-SkillsNetwork/labs/Module2/images/SN_web_lightmode.png\" width=\"300\" alt=\"cognitiveclass.ai logo\">\n",
        "</center>\n"
      ]
    },
    {
      "cell_type": "markdown",
      "source": [
        "#Data Science Tools and Ecosystem#"
      ],
      "metadata": {
        "id": "JT14ngoP8yob"
      }
    },
    {
      "cell_type": "markdown",
      "source": [
        "*In this notebook, Data Science Tools and Ecosystem are summarized.*"
      ],
      "metadata": {
        "id": "SyOmqc_79t9n"
      }
    },
    {
      "cell_type": "markdown",
      "source": [
        "Some of the popular languages that Data Scientists use are:\n",
        "1. Python\n",
        "2. R\n",
        "3. SPSS\n",
        "4. SAS"
      ],
      "metadata": {
        "id": "JHsMoPlY-CGf"
      }
    },
    {
      "cell_type": "markdown",
      "source": [
        "*Some of the commonly used libraries (R and Python) used by Data Scientists include:*\n",
        "1. Pandas\n",
        "2. NumPy\n",
        "3. SciPy\n",
        "4. Matplotlib\n",
        "5. Dplyr\n",
        "6. Ggplot2\n"
      ],
      "metadata": {
        "id": "y67EUN62jVni"
      }
    },
    {
      "cell_type": "markdown",
      "source": [
        "Data Science Tools:\n",
        "\n",
        "| S. No. | Description |\n",
        "| ----------- | ----------- |\n",
        "| 1.  | Apache Spark |\n",
        "| 2.  | MongoDB |\n",
        "| 2.  | MySQL |\n",
        "| 2.  | Jupyter |\n"
      ],
      "metadata": {
        "id": "MkEfUVwZkTj6"
      }
    },
    {
      "cell_type": "markdown",
      "source": [
        "##Below are a few examples of evaluating arithmetic expressions in Python-##\n"
      ],
      "metadata": {
        "id": "xNdatPlWBlr8"
      }
    },
    {
      "cell_type": "markdown",
      "source": [
        "(3*4)+5"
      ],
      "metadata": {
        "id": "ESjU11FjCIfT"
      }
    },
    {
      "cell_type": "markdown",
      "source": [
        "Convert minutes to hours:"
      ],
      "metadata": {
        "id": "Rz6OgZ0ubMNI"
      }
    },
    {
      "cell_type": "code",
      "source": [
        "x = 200.0/60\n",
        "print('200 minutes = ', x , 'hours')"
      ],
      "metadata": {
        "colab": {
          "base_uri": "https://localhost:8080/"
        },
        "id": "L72me1q8bQG4",
        "outputId": "633d1ff2-f634-460d-a1d4-ca6b6cccfe99"
      },
      "execution_count": 2,
      "outputs": [
        {
          "output_type": "stream",
          "name": "stdout",
          "text": [
            "200 minutes =  3.3333333333333335 hours\n"
          ]
        }
      ]
    },
    {
      "cell_type": "markdown",
      "source": [
        "**Objectives:**\n",
        "\n",
        "- Presents important Data Science tools.\n",
        "- Explains how to evaluate mathematical expressions.\n",
        "- Lists the important R and Python libraries used for Data Analytics.\n",
        "- Provides a code snippet to convert minutes into hours.\n",
        "- Explains the use of Markdown language."
      ],
      "metadata": {
        "id": "0EnR4alJcqTq"
      }
    },
    {
      "cell_type": "markdown",
      "source": [
        "##Author:##\n",
        "Dr. Anurag Barthwal"
      ],
      "metadata": {
        "id": "kPwtBIlbeHqm"
      }
    }
  ],
  "metadata": {
    "kernelspec": {
      "display_name": "Python",
      "language": "python",
      "name": "conda-env-python-py"
    },
    "language_info": {
      "name": ""
    },
    "colab": {
      "provenance": [],
      "include_colab_link": true
    }
  },
  "nbformat": 4,
  "nbformat_minor": 0
}