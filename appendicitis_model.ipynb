{
  "nbformat": 4,
  "nbformat_minor": 0,
  "metadata": {
    "colab": {
      "provenance": [],
      "authorship_tag": "ABX9TyMJNEY7uLPHtwfpR9gLGMCL",
      "include_colab_link": true
    },
    "kernelspec": {
      "name": "python3",
      "display_name": "Python 3"
    },
    "language_info": {
      "name": "python"
    }
  },
  "cells": [
    {
      "cell_type": "markdown",
      "metadata": {
        "id": "view-in-github",
        "colab_type": "text"
      },
      "source": [
        "<a href=\"https://colab.research.google.com/github/AnuragBarthwal/AnuragBarthwal/blob/main/appendicitis_model.ipynb\" target=\"_parent\"><img src=\"https://colab.research.google.com/assets/colab-badge.svg\" alt=\"Open In Colab\"/></a>"
      ]
    },
    {
      "cell_type": "code",
      "execution_count": 2,
      "metadata": {
        "colab": {
          "base_uri": "https://localhost:8080/"
        },
        "id": "ujCNE05uL_57",
        "outputId": "09d4e481-e98a-4b8e-a156-12a73b09233a"
      },
      "outputs": [
        {
          "output_type": "stream",
          "name": "stdout",
          "text": [
            "Shape of features: (782, 53)\n",
            "Shape of target: (782, 3)\n",
            "Features (X):\n",
            "     Age   BMI     Sex  Height  Weight  Length_of_Stay  Alvarado_Score  \\\n",
            "0  12.68  16.9  female   148.0    37.0             3.0             4.0   \n",
            "1  14.10  31.9    male   147.0    69.5             2.0             5.0   \n",
            "2  14.14  23.3  female   163.0    62.0             4.0             5.0   \n",
            "3  16.37  20.6  female   165.0    56.0             3.0             7.0   \n",
            "4  11.08  16.9  female   163.0    45.0             3.0             5.0   \n",
            "\n",
            "   Paedriatic_Appendicitis_Score Appendix_on_US  Appendix_Diameter  ...  \\\n",
            "0                            3.0            yes                7.1  ...   \n",
            "1                            4.0             no                NaN  ...   \n",
            "2                            3.0             no                NaN  ...   \n",
            "3                            6.0             no                NaN  ...   \n",
            "4                            6.0            yes                7.0  ...   \n",
            "\n",
            "  Abscess_Location Pathological_Lymph_Nodes Lymph_Nodes_Location  \\\n",
            "0              NaN                      yes                 reUB   \n",
            "1              NaN                      NaN                  NaN   \n",
            "2              NaN                      NaN                  NaN   \n",
            "3              NaN                      yes                 reUB   \n",
            "4              NaN                      yes                 reUB   \n",
            "\n",
            "  Bowel_Wall_Thickening Conglomerate_of_Bowel_Loops Ileus  Coprostasis  \\\n",
            "0                   NaN                         NaN   NaN          NaN   \n",
            "1                   NaN                         NaN   NaN          NaN   \n",
            "2                   NaN                         NaN   NaN          NaN   \n",
            "3                   NaN                         NaN   NaN          NaN   \n",
            "4                   NaN                         NaN   NaN          NaN   \n",
            "\n",
            "   Meteorism  Enteritis  Gynecological_Findings  \n",
            "0        NaN        NaN                     NaN  \n",
            "1        yes        NaN                     NaN  \n",
            "2        yes        yes                     NaN  \n",
            "3        NaN        yes                     NaN  \n",
            "4        NaN        yes                     NaN  \n",
            "\n",
            "[5 rows x 53 columns]\n",
            "Target (y):\n",
            "     Management       Severity        Diagnosis\n",
            "0  conservative  uncomplicated     appendicitis\n",
            "1  conservative  uncomplicated  no appendicitis\n",
            "2  conservative  uncomplicated  no appendicitis\n",
            "3  conservative  uncomplicated  no appendicitis\n",
            "4  conservative  uncomplicated     appendicitis\n"
          ]
        }
      ],
      "source": [
        "# Import necessary libraries\n",
        "import pandas as pd\n",
        "from ucimlrepo import fetch_ucirepo\n",
        "\n",
        "# Fetch the dataset\n",
        "regensburg_pediatric_appendicitis = fetch_ucirepo(id=938)\n",
        "\n",
        "# Data (features and targets)\n",
        "X = regensburg_pediatric_appendicitis.data.features\n",
        "y = regensburg_pediatric_appendicitis.data.targets\n",
        "\n",
        "# Check the shape of features (X) and target (y)\n",
        "print(\"Shape of features:\", X.shape)\n",
        "print(\"Shape of target:\", y.shape)\n",
        "\n",
        "# Check the first few rows of X and y to understand the structure\n",
        "print(\"Features (X):\")\n",
        "print(X.head())\n",
        "print(\"Target (y):\")\n",
        "print(y[:5])  # Print first 5 entries of y to inspect the data\n"
      ]
    },
    {
      "cell_type": "code",
      "source": [
        "import numpy as np\n",
        "\n",
        "# Assuming target is a numpy array with shape (782, 3)\n",
        "target = np.random.random((782, 3))\n",
        "\n",
        "# To access the third column\n",
        "third_column = target[:, 2]\n"
      ],
      "metadata": {
        "id": "B_aI3Jh9M9zm"
      },
      "execution_count": 8,
      "outputs": []
    },
    {
      "cell_type": "code",
      "source": [
        "from sklearn.ensemble import RandomForestRegressor\n",
        "from sklearn.model_selection import train_test_split\n",
        "from sklearn.metrics import mean_squared_error\n",
        "\n",
        "# Assuming features is your input data with shape (782, 53)\n",
        "features = np.random.random((782, 53))  # Replace with your actual features\n",
        "\n",
        "# Split data into training and testing sets\n",
        "X_train, X_test, y_train, y_test = train_test_split(features, third_column, test_size=0.2, random_state=42)\n",
        "\n",
        "# Instantiate the Random Forest Regressor model\n",
        "model = RandomForestRegressor()\n",
        "\n",
        "# Train the model\n",
        "model.fit(X_train, y_train)\n",
        "\n",
        "# Make predictions\n",
        "y_pred = model.predict(X_test)\n",
        "\n",
        "# Evaluate the model\n",
        "mse = mean_squared_error(y_test, y_pred)\n",
        "print(f\"Mean Squared Error: {mse}\")\n"
      ],
      "metadata": {
        "colab": {
          "base_uri": "https://localhost:8080/"
        },
        "id": "QM_qXpD0OcQj",
        "outputId": "9ec58155-dc57-4105-fb5a-0023d157e87d"
      },
      "execution_count": 10,
      "outputs": [
        {
          "output_type": "stream",
          "name": "stdout",
          "text": [
            "Mean Squared Error: 0.07800634112757808\n"
          ]
        }
      ]
    }
  ]
}