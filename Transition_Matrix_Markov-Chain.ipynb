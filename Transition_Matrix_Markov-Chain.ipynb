{
  "nbformat": 4,
  "nbformat_minor": 0,
  "metadata": {
    "colab": {
      "provenance": [],
      "authorship_tag": "ABX9TyMT/tnOrE+D2FKOREnoCi0y",
      "include_colab_link": true
    },
    "kernelspec": {
      "name": "python3",
      "display_name": "Python 3"
    },
    "language_info": {
      "name": "python"
    }
  },
  "cells": [
    {
      "cell_type": "markdown",
      "metadata": {
        "id": "view-in-github",
        "colab_type": "text"
      },
      "source": [
        "<a href=\"https://colab.research.google.com/github/AnuragBarthwal/AnuragBarthwal/blob/main/Transition_Matrix_Markov-Chain.ipynb\" target=\"_parent\"><img src=\"https://colab.research.google.com/assets/colab-badge.svg\" alt=\"Open In Colab\"/></a>"
      ]
    },
    {
      "cell_type": "code",
      "execution_count": 3,
      "metadata": {
        "colab": {
          "base_uri": "https://localhost:8080/"
        },
        "id": "NcSqrtYrnuBS",
        "outputId": "b1c64e52-1cd0-44dc-d8c5-2f79cf8c8a56"
      },
      "outputs": [
        {
          "output_type": "stream",
          "name": "stdout",
          "text": [
            "Drive already mounted at /content/drive; to attempt to forcibly remount, call drive.mount(\"/content/drive\", force_remount=True).\n"
          ]
        }
      ],
      "source": [
        "import pandas as pd\n",
        "\n",
        "from google.colab import drive\n",
        "drive.mount('/content/drive')\n",
        "\n",
        "df = pd.read_excel('/content/drive/My Drive/MarkovChainAnalysis1.xlsx')"
      ]
    },
    {
      "cell_type": "code",
      "source": [
        "ls_raw_time_series = df.loc[:,\"AQI\"].dropna().tolist()"
      ],
      "metadata": {
        "id": "IGY457Kro4Xj"
      },
      "execution_count": 14,
      "outputs": []
    },
    {
      "cell_type": "code",
      "source": [
        "import pandas as pd\n",
        "\n",
        "def get_transition_tuples(ls):\n",
        "    ''' Converts a time series into a list of transition tuples'''\n",
        "    return [(ls[i-1], ls[i]) for i in range(1, len(ls))]\n",
        "\n",
        "def get_transition_event(tup):\n",
        "    ''' Converts a tuple into a discrete transition event '''\n",
        "    if tup[1] < 100:\n",
        "        transition_event = 'S'\n",
        "    elif 100 <= tup[1] < 200:\n",
        "        transition_event = 'M'\n",
        "    elif 200 <= tup[1] < 300:\n",
        "        transition_event = 'P'\n",
        "    elif tup[1] >= 300:\n",
        "        transition_event = 'H'\n",
        "    return transition_event\n",
        "\n",
        "# Derive single-step state transition tuples\n",
        "ls_transitions = get_transition_tuples(ls_raw_time_series)\n",
        "\n",
        "# Convert raw time series data into discrete events\n",
        "ls_events = [get_transition_event(tup) for tup in ls_transitions]\n",
        "ls_event_transitions = get_transition_tuples(ls_events)\n",
        "\n",
        "# Create an index (list) of unique event types\n",
        "ls_index = ['S', 'M', 'P', 'H']\n",
        "\n",
        "# Initialize Markov transition matrix with zeros\n",
        "df = pd.DataFrame(0, index=ls_index, columns=ls_index)\n",
        "\n",
        "# Derive transition matrix (or co-occurrence matrix)\n",
        "for i, j in ls_event_transitions:\n",
        "    df.loc[i, j] += 1  # Update (i, j) element\n",
        "\n",
        "''' Derive row-normalized transition matrix:\n",
        "- Elements are normalized by row sum (fill NAs/NaNs with 0s)\n",
        "- df.sum(axis=1) sums up each row, df.div(..., axis=0) then divides each column element\n",
        "'''\n",
        "df_rnorm = df.div(df.sum(axis=1), axis=0).fillna(0.00)\n",
        "\n",
        "''' Derive column-normalized transition matrix:\n",
        "- Elements are normalized by column sum (fill NAs/NaNs with 0s)\n",
        "- df.sum(axis=0) sums up each col, df.div(..., axis=1) then divides each row element\n",
        "'''\n",
        "df_cnorm = df.div(df.sum(axis=0), axis=1).fillna(0.00)\n",
        "\n",
        "print(\"Transition Matrix:\")\n",
        "print(df)\n",
        "print(\"\\nRow-normalized Transition Matrix:\")\n",
        "print(df_rnorm)\n",
        "print(\"\\nColumn-normalized Transition Matrix:\")\n",
        "print(df_cnorm)\n"
      ],
      "metadata": {
        "colab": {
          "base_uri": "https://localhost:8080/"
        },
        "id": "QBsgLJ2jrEeZ",
        "outputId": "9476ab08-022b-4033-db2c-e77243333ba8"
      },
      "execution_count": 16,
      "outputs": [
        {
          "output_type": "stream",
          "name": "stdout",
          "text": [
            "Transition Matrix:\n",
            "   S  M   P   H\n",
            "S  1  0   2   0\n",
            "M  0  2   4   1\n",
            "P  1  3  17  12\n",
            "H  1  2  10  96\n",
            "\n",
            "Row-normalized Transition Matrix:\n",
            "          S         M         P         H\n",
            "S  0.333333  0.000000  0.666667  0.000000\n",
            "M  0.000000  0.285714  0.571429  0.142857\n",
            "P  0.030303  0.090909  0.515152  0.363636\n",
            "H  0.009174  0.018349  0.091743  0.880734\n",
            "\n",
            "Column-normalized Transition Matrix:\n",
            "          S         M         P         H\n",
            "S  0.333333  0.000000  0.060606  0.000000\n",
            "M  0.000000  0.285714  0.121212  0.009174\n",
            "P  0.333333  0.428571  0.515152  0.110092\n",
            "H  0.333333  0.285714  0.303030  0.880734\n"
          ]
        }
      ]
    }
  ]
}